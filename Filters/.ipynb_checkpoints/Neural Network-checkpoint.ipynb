{
 "cells": [
  {
   "cell_type": "code",
   "execution_count": 7,
   "metadata": {},
   "outputs": [],
   "source": [
    "import matplotlib.pylab as plt\n",
    "import numpy as np\n",
    "from time import time\n",
    "import cv2"
   ]
  },
  {
   "cell_type": "code",
   "execution_count": 9,
   "metadata": {},
   "outputs": [],
   "source": [
    "image = cv2.imread('C:/Users/dimap/source/repos/FIlters/Pictures/road.jpg')\n",
    "\n",
    "image_gray = np.ones((len(image), len(image[0])))\n",
    "for i in range(len(image)):\n",
    "    for j in range(len(image[i])):\n",
    "        image_gray[i][j] = image[i][j][0] * 0.2125 + image[i][j][1] * 0.7154 + image[i][j][2] * 0.0721 "
   ]
  },
  {
   "cell_type": "code",
   "execution_count": 10,
   "metadata": {},
   "outputs": [],
   "source": [
    "def activate_function(x):\n",
    "    # Sigmoid activate function\n",
    "    return 1 / (1 + np.exp(-x))\n",
    "\n",
    "###################################################################\n",
    "\n",
    "def neural_network(layers_number, input_data, weight):\n",
    "    size = len(input_data)\n",
    "    layers = np.zeros((layers_number + 1, size))\n",
    "    layers[0] = input_data\n",
    "    for i in range(layers_number):\n",
    "        layers[i + 1] = mult(weight[i], layers[i])\n",
    "    print (layers)\n",
    "    output = (layers[layers_number] * weight[layers_number - 1][0]).sum()\n",
    "    return output\n",
    "\n",
    "###################################################################\n",
    "\n",
    "def matrix_vector(matrix, vector):\n",
    "    result = np.zeros(len(matrix))\n",
    "    if (len(matrix[0]) != len(vector)):\n",
    "        print (\"ERROR\")\n",
    "    else:\n",
    "        for i in range (len(matrix)):\n",
    "            summ = 0\n",
    "            for j in range(len(vector)):\n",
    "                summ = summ + (matrix[i][j] * vector[j])\n",
    "            result[i] = activate_function(summ)\n",
    "    return result\n"
   ]
  },
  {
   "cell_type": "code",
   "execution_count": 11,
   "metadata": {},
   "outputs": [],
   "source": [
    "class Neuron:\n",
    "    \n",
    "    def __init__(self, weights, bias, value):\n",
    "        self.weights = weights\n",
    "        self.bias = bias\n",
    "        self.value = value\n",
    " \n",
    "    def feedForward(self, input_data):\n",
    "        self.value = np.dot(self.weights, input_data) + self.bias\n",
    "\n",
    "###################################################################\n",
    "\n",
    "class NeuralNetwork:\n",
    "    \n",
    "    def __init__(self, layer_data, size):\n",
    "        self.size = size\n",
    "        self.layer_data = layer_data\n",
    "        \n",
    "    def defineLayer(self, input_data, layer_size, weight, n):\n",
    "        \n",
    "        for i in range(layer_size):\n",
    "            bias = np.random.randint(5)\n",
    "            value = 1\n",
    "            neuron = Neuron(weight[i], bias, value)\n",
    "            neuron.feedForward(input_data)\n",
    "            self.layer_data[n].append(neuron)\n",
    "            \n",
    "        self.layer_data.append([])\n",
    "        \n",
    "    def outPut(self, weight):\n",
    "        return activate_function(np.dot(self.layer_data[self.size - 1], weight))"
   ]
  },
  {
   "cell_type": "code",
   "execution_count": 12,
   "metadata": {},
   "outputs": [],
   "source": [
    "network_size = 3\n",
    "layer_data = [[]]\n",
    "\n",
    "netWork = NeuralNetwork(layer_data, network_size)\n",
    "input_data = [12, 25, 19, 22, 39, 21, 54, 11, 13] "
   ]
  },
  {
   "cell_type": "code",
   "execution_count": 13,
   "metadata": {},
   "outputs": [],
   "source": [
    "layer_size_0 = 8\n",
    "\n",
    "Dx1 = np.array([1/2, -1/2, 0, 1/2, -1/2, 0, 0, 0, 0])\n",
    "Dy1 = np.array([1/2, 1/2, 0, -1/2, -1/2, 0, 0, 0, 0])\n",
    "\n",
    "Dx2 = np.array([0, 1/2, -1/2, 0, 1/2, -1/2, 0, 0, 0])\n",
    "Dy2 = np.array([0, 1/2, 1/2, 0, -1/2, -1/2, 0, 0, 0])\n",
    "\n",
    "Dx3 = np.array([0, 0, 0, 1/2, -1/2, 0, 1/2, -1/2, 0])\n",
    "Dy3 = np.array([0, 0, 0, 1/2, 1/2, 0, -1/2, -1/2, 0])\n",
    "\n",
    "Dx4 = np.array([0, 0, 0, 0, 1/2, -1/2, 0, 1/2, -1/2])\n",
    "Dy4 = np.array([0, 0, 0, 0, 1/2, 1/2, 0, -1/2, -1/2])\n",
    "\n",
    "weight_0 = np.array((Dx1, Dy1, Dx2, Dy2, Dx3, Dy3, Dx4, Dy4))\n",
    "\n",
    "netWork.defineLayer(input_data, layer_size_0, weight_0, 0)"
   ]
  },
  {
   "cell_type": "code",
   "execution_count": 14,
   "metadata": {},
   "outputs": [],
   "source": [
    "layer_size_1 = 12\n",
    "\n",
    "input_data = np.ones(layer_size_0)\n",
    "\n",
    "for i in range(layer_size_0):\n",
    "    input_data[i] = netWork.layer_data[0][i].value\n",
    "\n",
    "lx1 = netWork.layer_data[0][0].value\n",
    "ly1 = netWork.layer_data[0][1].value\n",
    "\n",
    "lx2 = netWork.layer_data[0][2].value\n",
    "ly2 = netWork.layer_data[0][3].value\n",
    "\n",
    "lx3 = netWork.layer_data[0][4].value\n",
    "ly3 = netWork.layer_data[0][5].value\n",
    "\n",
    "lx4 = netWork.layer_data[0][6].value\n",
    "ly4 = netWork.layer_data[0][7].value\n",
    "\n",
    "weight_1 = np.array(([lx1, 0, 0, 0, 0, 0, 0, 0], [ly1, 0, 0, 0, 0, 0, 0, 0],\n",
    "                     [0, ly1, 0, 0, 0, 0, 0, 0], [0, 0, lx2, 0, 0, 0, 0, 0],\n",
    "                     [0, 0, ly2, 0, 0, 0, 0, 0], [0, 0, 0, ly2, 0, 0, 0, 0],\n",
    "                     [0, 0, 0, 0, lx3, 0, 0, 0], [0, 0, 0, 0, ly3, 0, 0, 0],\n",
    "                     [0, 0, 0, 0, 0, ly3, 0, 0], [0, 0, 0, 0, 0, 0, lx4, 0],\n",
    "                     [0, 0, 0, 0, 0, 0, ly4, 0], [0, 0, 0, 0, 0, 0, 0, ly4]))\n",
    "\n",
    "\n",
    "netWork.defineLayer(input_data, layer_size_1, weight_1, 1)"
   ]
  },
  {
   "cell_type": "code",
   "execution_count": 15,
   "metadata": {},
   "outputs": [],
   "source": [
    "layer_size_2 = 3\n",
    "\n",
    "input_data = np.ones(layer_size_1)\n",
    "\n",
    "for i in range(layer_size_1):\n",
    "    input_data[i] = netWork.layer_data[1][i].value\n",
    "    \n",
    "weight_2 = np.array(([1/2, 0, 0, 1/2, 0, 0, 1/2, 0, 0, 1/2, 0, 0],\n",
    "                     [0, 1/2, 0, 0, 1/2, 0, 0, 1/2, 0, 0, 1/2, 0],\n",
    "                     [0, 0, 1/2, 0, 0, 1/2, 0, 0, 1/2, 0, 0, 1/2]))\n",
    "\n",
    "netWork.defineLayer(input_data, layer_size_2, weight_2, 2)"
   ]
  },
  {
   "cell_type": "code",
   "execution_count": 18,
   "metadata": {},
   "outputs": [],
   "source": [
    "a11 = netWork.layer_data[2][0].value\n",
    "a12 = netWork.layer_data[2][1].value\n",
    "a22 = netWork.layer_data[2][2].value\n",
    "\n",
    "lambda_1 = ((a11 + a22) / 2) + np.sqrt(((a11 + a22) / 2) ** 2 - (a11 * a22 - a12 * a12))\n",
    "lambda_2 = ((a11 + a22) / 2) - np.sqrt(((a11 + a22) / 2) ** 2 - (a11 * a22 - a12 * a12))"
   ]
  },
  {
   "cell_type": "code",
   "execution_count": 19,
   "metadata": {},
   "outputs": [
    {
     "data": {
      "text/plain": [
       "458.05266744780636"
      ]
     },
     "execution_count": 19,
     "metadata": {},
     "output_type": "execute_result"
    }
   ],
   "source": [
    "lambda_1"
   ]
  },
  {
   "cell_type": "code",
   "execution_count": null,
   "metadata": {},
   "outputs": [],
   "source": []
  },
  {
   "cell_type": "code",
   "execution_count": null,
   "metadata": {},
   "outputs": [],
   "source": []
  },
  {
   "cell_type": "code",
   "execution_count": null,
   "metadata": {},
   "outputs": [],
   "source": []
  },
  {
   "cell_type": "code",
   "execution_count": null,
   "metadata": {},
   "outputs": [],
   "source": []
  },
  {
   "cell_type": "code",
   "execution_count": null,
   "metadata": {},
   "outputs": [],
   "source": []
  }
 ],
 "metadata": {
  "kernelspec": {
   "display_name": "Python 3",
   "language": "python",
   "name": "python3"
  },
  "language_info": {
   "codemirror_mode": {
    "name": "ipython",
    "version": 3
   },
   "file_extension": ".py",
   "mimetype": "text/x-python",
   "name": "python",
   "nbconvert_exporter": "python",
   "pygments_lexer": "ipython3",
   "version": "3.7.3"
  },
  "pycharm": {
   "stem_cell": {
    "cell_type": "raw",
    "metadata": {
     "collapsed": false
    },
    "source": []
   }
  }
 },
 "nbformat": 4,
 "nbformat_minor": 2
}
