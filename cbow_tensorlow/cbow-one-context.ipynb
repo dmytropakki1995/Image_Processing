{
 "cells": [
  {
   "cell_type": "code",
   "execution_count": null,
   "id": "56b6602a",
   "metadata": {},
   "outputs": [],
   "source": [
    "import tensorflow as tf\n",
    "from tensorflow.keras.models import Sequential\n",
    "from tensorflow.keras.layers import Dense, Embedding, Lambda\n",
    "from tensorflow.keras.preprocessing.text import Tokenizer\n",
    "from tensorflow.keras.utils import to_categorical\n",
    "from tensorflow.keras.preprocessing.sequence import pad_sequences\n",
    "import numpy as np\n",
    "import matplotlib.pyplot as plt\n",
    "from sklearn.decomposition import PCA\n",
    "\n",
    "import io\n",
    "import re\n",
    "import tqdm\n",
    "import string"
   ]
  },
  {
   "cell_type": "code",
   "execution_count": null,
   "id": "b22f0f75",
   "metadata": {},
   "outputs": [],
   "source": [
    "EMBEDDING_SIZE = 256\n",
    "WINDOW_SIZE = 1"
   ]
  },
  {
   "cell_type": "code",
   "execution_count": null,
   "id": "12606475",
   "metadata": {},
   "outputs": [],
   "source": [
    "# Define the corpus\n",
    "def custom_standardization(input_data):\n",
    "    text = input_data.lower()\n",
    "\n",
    "    # 2. remove punctuation (keep letters, digits, spaces)\n",
    "    text = re.sub(r\"[^\\w\\s]\", \"\", text, flags=re.UNICODE)\n",
    "\n",
    "    # 3. replace newlines with spaces and collapse extra spaces\n",
    "    text = re.sub(r\"\\s+\", \" \", text)\n",
    "    return text\n",
    "\n",
    "\n",
    "f = open(\"war_and_peace.txt\", \"r\")\n",
    "input_data = f.read()\n",
    "data = custom_standardization(input_data)\n",
    "corpus = [data]\n",
    " \n",
    "# Convert the corpus to a sequence of integers\n",
    "tokenizer = Tokenizer()\n",
    "tokenizer.fit_on_texts(corpus)\n",
    "sequences = tokenizer.texts_to_sequences(corpus)\n",
    "# print(\"After converting our words in the corpus into vector of integers:\")\n",
    "# print(len(sequences[0]))\n",
    "\n",
    "word_index = tokenizer.word_index\n",
    "index_word = {v: k for k, v in word_index.items()}"
   ]
  },
  {
   "cell_type": "code",
   "execution_count": null,
   "id": "6109977d",
   "metadata": {},
   "outputs": [],
   "source": [
    "vocab_size = len(tokenizer.word_index) + 1\n",
    "\n",
    "words = data.split()\n",
    "contexts = []\n",
    "targets = []\n",
    "for i in range(1, len(words)):\n",
    "    x_key = word_index.get(words[i-1], None)\n",
    "    y_key = word_index.get(words[i], None)\n",
    "    \n",
    "    if x_key is not None and y_key is not None:\n",
    "        contexts.append(x_key)\n",
    "        targets.append(y_key)\n",
    "    else:\n",
    "        continue\n",
    "        \n",
    "vocab_size = len(tokenizer.word_index) + 1\n",
    "\n",
    "# Convert the contexts and targets to numpy arrays\n",
    "X = np.array(contexts)\n",
    "\n",
    "y = np.zeros((len(X), vocab_size))\n",
    "for i in range(0, len(targets)):\n",
    "    y[i][targets[i]] = 1"
   ]
  },
  {
   "cell_type": "code",
   "execution_count": null,
   "id": "d651f08c",
   "metadata": {},
   "outputs": [],
   "source": [
    "# Define the CBOW model\n",
    "model = Sequential()\n",
    "model.add(Embedding(input_dim=vocab_size,\n",
    "                    output_dim=EMBEDDING_SIZE,\n",
    "                    input_length=1))\n",
    "model.add(Dense(units=vocab_size, activation='softmax'))\n",
    "\n",
    "# Compile the model\n",
    "model.compile(optimizer='adam', loss='sparse_categorical_crossentropy', metrics=['accuracy'])\n",
    "\n",
    "model.summary()"
   ]
  },
  {
   "cell_type": "code",
   "execution_count": null,
   "id": "2ede6456",
   "metadata": {},
   "outputs": [],
   "source": [
    "# Fit model\n",
    "# model.fit(X[:1000], y, epochs=5, verbose=2)"
   ]
  }
 ],
 "metadata": {
  "kernelspec": {
   "display_name": "Python 3 (ipykernel)",
   "language": "python",
   "name": "python3"
  },
  "language_info": {
   "codemirror_mode": {
    "name": "ipython",
    "version": 3
   },
   "file_extension": ".py",
   "mimetype": "text/x-python",
   "name": "python",
   "nbconvert_exporter": "python",
   "pygments_lexer": "ipython3",
   "version": "3.10.9"
  }
 },
 "nbformat": 4,
 "nbformat_minor": 5
}
