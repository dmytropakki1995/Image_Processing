{
 "cells": [
  {
   "cell_type": "code",
   "execution_count": 1,
   "id": "8a4100dc",
   "metadata": {},
   "outputs": [],
   "source": [
    "import tensorflow as tf\n",
    "from tensorflow.keras.models import Sequential\n",
    "from tensorflow.keras.layers import Dense, Embedding, Lambda\n",
    "from tensorflow.keras.preprocessing.text import Tokenizer\n",
    "from tensorflow.keras.utils import to_categorical\n",
    "from tensorflow.keras.preprocessing.sequence import pad_sequences\n",
    "import numpy as np\n",
    "import matplotlib.pyplot as plt\n",
    "from sklearn.decomposition import PCA\n",
    "\n",
    "import io\n",
    "import re\n",
    "import tqdm\n",
    "import string"
   ]
  },
  {
   "cell_type": "code",
   "execution_count": 2,
   "id": "65084a22",
   "metadata": {},
   "outputs": [],
   "source": [
    "EMBEDDING_SIZE = 256\n",
    "WINDOW_SIZE = 3"
   ]
  },
  {
   "cell_type": "code",
   "execution_count": 3,
   "id": "c52d0d88",
   "metadata": {},
   "outputs": [
    {
     "name": "stdout",
     "output_type": "stream",
     "text": [
      "After converting our words in the corpus into vector of integers:\n",
      "1113458\n"
     ]
    }
   ],
   "source": [
    "# Define the corpus\n",
    "\n",
    "# corpus = ['In a small village surrounded by mountains, people lived in harmony with nature. The seasons changed gently, bringing new colors and sounds to the valley. In spring, the flowers bloomed, and birds sang joyfully, filling the air with music. Farmers planted crops in neat rows, while children played near the streams, their laughter echoing through the hills. Summer brought warmth, and the fields turned green with life. The village buzzed with activity, as people harvested fruits and vegetables. Autumn arrived with a cool breeze, turning the leaves into shades of gold and red. The village prepared for winter, gathering wood and storing food. Snow covered the land, and the world seemed to slow down. Families gathered around fires, sharing stories of the past and dreaming of the future. Despite the challenges of each season, the villagers remained hopeful and resilient, always finding joy in the simple moments of life.']\n",
    "\n",
    "def custom_standardization(input_data):\n",
    "    input_data.lower()\n",
    "    # Create translation table\n",
    "    translator = str.maketrans('', '', string.punctuation)\n",
    "\n",
    "    # Remove punctuation\n",
    "    return input_data.lower().translate(translator)\n",
    "\n",
    "f = open(\"war_and_peace.txt\", \"r\")\n",
    "input_data = f.read()\n",
    "data = custom_standardization(input_data)\n",
    "corpus = [data]\n",
    " \n",
    "# Convert the corpus to a sequence of integers\n",
    "tokenizer = Tokenizer()\n",
    "tokenizer.fit_on_texts(corpus)\n",
    "sequences = tokenizer.texts_to_sequences(corpus)\n",
    "print(\"After converting our words in the corpus into vector of integers:\")\n",
    "print(len(sequences[0]))"
   ]
  },
  {
   "cell_type": "code",
   "execution_count": 4,
   "id": "b85b0803",
   "metadata": {},
   "outputs": [
    {
     "name": "stdout",
     "output_type": "stream",
     "text": [
      "vocab size:  41611\n",
      "Model: \"sequential\"\n",
      "_________________________________________________________________\n",
      " Layer (type)                Output Shape              Param #   \n",
      "=================================================================\n",
      " embedding (Embedding)       (None, 6, 256)            10652416  \n",
      "                                                                 \n",
      " lambda (Lambda)             (None, 256)               0         \n",
      "                                                                 \n",
      " dense (Dense)               (None, 41611)             10694027  \n",
      "                                                                 \n",
      "=================================================================\n",
      "Total params: 21346443 (81.43 MB)\n",
      "Trainable params: 21346443 (81.43 MB)\n",
      "Non-trainable params: 0 (0.00 Byte)\n",
      "_________________________________________________________________\n"
     ]
    }
   ],
   "source": [
    "word_index = tokenizer.word_index\n",
    "index_word = {v: k for k, v in word_index.items()}\n",
    "\n",
    "\n",
    "# Define the parameters\n",
    "vocab_size = len(tokenizer.word_index) + 1\n",
    "print(\"vocab size: \", vocab_size)\n",
    "\n",
    "# Generate the context-target pairs\n",
    "contexts = []\n",
    "targets = []\n",
    "for sequence in sequences:\n",
    "    for i in range(WINDOW_SIZE, len(sequence) - WINDOW_SIZE):\n",
    "        context = sequence[i - WINDOW_SIZE:i] +\\\n",
    "            sequence[i + 1:i + WINDOW_SIZE + 1]\n",
    "        target = sequence[i]\n",
    "        contexts.append(context)\n",
    "        targets.append(target)\n",
    "\n",
    "# Convert the contexts and targets to numpy arrays\n",
    "X = np.array(contexts)\n",
    "\n",
    "y = np.zeros((len(X), vocab_size))\n",
    "for i in range(0, len(targets)):\n",
    "    y[i][targets[i]] = 1\n",
    "\n",
    "\n",
    "# Define the CBOW model\n",
    "model = Sequential()\n",
    "model.add(Embedding(input_dim=vocab_size,\n",
    "                    output_dim=EMBEDDING_SIZE,\n",
    "                    input_length=2*WINDOW_SIZE))\n",
    "model.add(Lambda(lambda x: tf.reduce_mean(x, axis=1)))\n",
    "model.add(Dense(units=vocab_size, activation='softmax'))\n",
    "\n",
    "# Compile the model\n",
    "model.compile(optimizer='adam', loss='categorical_crossentropy', metrics=['accuracy'])\n",
    "\n",
    "model.summary()"
   ]
  },
  {
   "cell_type": "code",
   "execution_count": 16,
   "id": "db7f1925",
   "metadata": {},
   "outputs": [],
   "source": [
    "# Fit model\n",
    "# model.fit(X[:1000], y, epochs=5, verbose=2)"
   ]
  },
  {
   "cell_type": "code",
   "execution_count": 5,
   "id": "013178f7",
   "metadata": {},
   "outputs": [],
   "source": [
    "model.load_weights('cbow_weights.h5')\n",
    "\n",
    "W1 = model.get_weights()[0]\n",
    "W2 = model.get_weights()[1]"
   ]
  },
  {
   "cell_type": "code",
   "execution_count": 36,
   "id": "798d6e3f",
   "metadata": {},
   "outputs": [
    {
     "name": "stdout",
     "output_type": "stream",
     "text": [
      " ---->  [1019, 1, 126, 3, 900, 4]\n",
      "(256,)\n",
      "[0.7258069515228271, 0.5210476517677307, -0.31427672505378723, 0.010791580192744732, -0.49918320775032043, 0.7085666656494141, 1.1874264478683472, -1.226688027381897, -0.360283762216568, -0.10812386125326157, -0.5481446385383606, 0.39936044812202454, -0.828488826751709, 0.143117293715477, 0.3158906400203705, 0.32476159930229187, 1.6690653562545776, -1.3208023309707642, 1.577238917350769, -0.9376479983329773, 0.06187152862548828, 0.018156806007027626, 0.8472817540168762, 4.186216831207275, 1.465622901916504, -0.5364861488342285, 1.229336142539978, 0.06967908143997192, 0.5099479556083679, 0.10128132253885269, -3.0068235397338867, 0.906862735748291, 0.4811820089817047, 0.1265731304883957, 0.2828443944454193, 2.252056360244751, -0.4407115876674652, 0.4164792597293854, -0.5646108388900757, 0.40751567482948303, 0.5648707747459412, 1.023675799369812, 0.7552998661994934, 1.3809815645217896, -0.9224650263786316, -1.100748896598816, -0.39271703362464905, 0.24543698132038116, -0.7587557435035706, 0.24090786278247833, -2.0929760932922363, 0.3759460151195526, -3.664456605911255, 0.41002580523490906, -0.5698471069335938, -1.3711491823196411, -0.6904361248016357, -1.5520294904708862, 0.08011869341135025, 2.0499510765075684, -0.2594541609287262, 0.6895204186439514, -2.05444073677063, 0.8103632926940918, -0.4858027398586273, -0.7292313575744629, -1.4887336492538452, -1.054098129272461, -1.3399066925048828, 0.43604227900505066, -1.549607276916504, -2.609238624572754, 1.1041545867919922, 0.4028666913509369, -2.4199135303497314, -0.12864379584789276, 0.7412808537483215, 0.32035109400749207, 1.3288812637329102, 0.5911607146263123, 1.616398811340332, 0.33817705512046814, 0.4602273404598236, -0.2482273131608963, 0.11204192787408829, -0.0833442211151123, -0.34208881855010986, 1.329451322555542, 2.0657050609588623, 1.588210940361023, -0.27688249945640564, -2.2144553661346436, 1.1215654611587524, -0.5400125980377197, 0.024258891120553017, -1.5036438703536987, -0.08651649951934814, -0.43772122263908386, 2.0563559532165527, -0.549293577671051, -0.455230712890625, -0.21376733481884003, -0.02281721495091915, -0.23249542713165283, -0.8652837872505188, -1.683415412902832, 0.7645966410636902, 1.1954877376556396, -0.18193419277668, 1.8819786310195923, -0.227891206741333, -2.045133590698242, -0.044349927455186844, -2.3779079914093018, 1.658935546875, -1.4060090780258179, -0.8013143539428711, -2.2544801235198975, 0.18872030079364777, 0.770047128200531, -0.6736565232276917, -0.21591265499591827, 0.1103336289525032, 1.4076370000839233, 0.9677391052246094, 0.11642792075872421, 1.9331989288330078, -0.5214738249778748, 0.4971792697906494, 0.1452690064907074, 0.02227250672876835, 1.1464647054672241, 0.3086395561695099, 0.43121233582496643, 0.5738999247550964, 1.1677310466766357, 0.6327700614929199, 0.2172655463218689, -0.7346241474151611, 1.1582671403884888, -0.8731338381767273, 0.4051649868488312, -0.2108975648880005, -0.2670307457447052, -0.921733558177948, -0.5572896599769592, -0.8230545520782471, 0.6864175796508789, -0.38298121094703674, 1.3527154922485352, -0.3032057285308838, -0.5034205317497253, 1.079121708869934, -0.2821454703807831, 0.09235477447509766, 1.0348740816116333, 0.5416569113731384, -0.3743552267551422, 0.26979926228523254, 0.3815501034259796, -1.5970574617385864, -1.3268256187438965, 0.5010839700698853, 0.4453822076320648, -1.2146235704421997, -0.454646497964859, -0.3052615225315094, 0.002941032173112035, -0.2019485980272293, 1.984824299812317, -1.1780527830123901, -1.0389515161514282, 1.806331753730774, 0.2670431435108185, -0.053506653755903244, -0.09907355159521103, 1.6070019006729126, 1.168211579322815, -0.04269127920269966, 2.0768065452575684, -0.2878636419773102, -0.2246212363243103, -1.267393708229065, 0.3396265208721161, 1.3296881914138794, 0.8991518616676331, -1.243780493736267, 1.002728819847107, 2.3656229972839355, 0.40091896057128906, 0.635990560054779, -0.3541663587093353, 0.42252716422080994, 0.702704906463623, -0.3460172712802887, -0.2612888216972351, 0.7227093577384949, 1.897495150566101, -0.6724454760551453, -0.4030252993106842, -0.299933522939682, -1.3383277654647827, 1.4430131912231445, -1.2160439491271973, -0.8169204592704773, -0.9794480204582214, -2.726564407348633, 0.1960964798927307, 1.2110968828201294, 0.6633177399635315, -0.07315415143966675, -1.5757960081100464, 0.48162615299224854, -0.6245549917221069, 2.0602481365203857, -1.83113431930542, 1.142930507659912, -0.6432311534881592, 0.6482117772102356, -1.2486861944198608, 0.4694638252258301, 1.0405967235565186, 1.7286823987960815, 0.21741046011447906, -2.25620174407959, 1.1076921224594116, 1.3093886375427246, -0.3895498216152191, 1.3084787130355835, -1.507491111755371, 2.1523728370666504, 0.6692338585853577, -0.28530359268188477, 0.35759082436561584, -0.990521252155304, 1.0993740558624268, 0.8891425132751465, -0.9606503844261169, 0.2849874794483185, -0.0048113069497048855, 0.40193209052085876, -1.1404950618743896, -1.4562759399414062, 0.07148470729589462, 2.64640474319458, 1.179864764213562, -1.0727648735046387, 0.7948112487792969, 2.6081056594848633, -2.50144362449646, 0.7137219309806824, -1.6802490949630737, 0.10661838203668594, 1.5978918075561523, -1.0766950845718384, 1.4204665422439575]\n"
     ]
    }
   ],
   "source": [
    "def get_hidden_vector(context_ids, W1):\n",
    "    # W1[context_ids] gives you the embeddings for each context word\n",
    "    # Take mean across rows to get the CBOW hidden vector\n",
    "    print(\" ----> \", context_ids)\n",
    "    return np.mean(W1[context_ids], axis=0)\n",
    "\n",
    "\n",
    "sentense = 'rendered the country turbulent and difficult to'\n",
    "context_words = []\n",
    "\n",
    "split_sentense = sentense.split(\" \")\n",
    "\n",
    "if (len(split_sentense) - 1) != WINDOW_SIZE * 2:\n",
    "    print(\"ERROR: sentense does not have the correct lenght for testinng\")\n",
    "else:\n",
    "    for w in split_sentense:\n",
    "        context_words.append(w)\n",
    "    del context_words[WINDOW_SIZE]\n",
    "    \n",
    "context_ids = []\n",
    "for w in context_words:\n",
    "    context_ids.append(word_index[w])\n",
    "    \n",
    "# context_ids\n",
    "\n",
    "h = get_hidden_vector(context_ids, W1)\n",
    "\n",
    "\n",
    "print(h.shape)      # (EMBEDDING_SIZE,)\n",
    "print(h.tolist())   # plain list of floats"
   ]
  },
  {
   "cell_type": "code",
   "execution_count": null,
   "id": "9cbb226f",
   "metadata": {},
   "outputs": [],
   "source": [
    "# Additional processing with RELU function\n",
    "\"\"\"def relu(x):\n",
    "    return max(0.0, x)\n",
    "\n",
    "weights_new = model.get_weights()[0].copy()\n",
    "threshold = 0.8\n",
    "\n",
    "for i in range(len(weights_new)):\n",
    "    for j in range(len(weights_new[i])):\n",
    "        if relu(weights_new[i][j]) > threshold:\n",
    "            weights_new[i][j] = 1\n",
    "        else:\n",
    "            weights_new[i][j] = 0\n",
    "            \n",
    "index = 35\n",
    "count = 0\n",
    "for i in weights_new[index]:\n",
    "    if i == 1.0:\n",
    "        count += 1\n",
    "\n",
    "print(count)\"\"\""
   ]
  },
  {
   "cell_type": "code",
   "execution_count": null,
   "id": "911f379f",
   "metadata": {},
   "outputs": [],
   "source": [
    "# Test predictions\n",
    "def predict_target(context_words):\n",
    "    context_sequence = tokenizer.texts_to_sequences([context_words])[0]\n",
    "    context_sequence = pad_sequences([context_sequence], maxlen=WINDOW_SIZE * 2)\n",
    "    prediction = model.predict(context_sequence)\n",
    "    predicted_word_idx = np.argmax(prediction)\n",
    "    predicted_word = tokenizer.index_word[predicted_word_idx]\n",
    "    return predicted_word\n",
    "\n",
    "# Example prediction\n",
    "sentense = 'rendered the country turbulent and difficult to'\n",
    "context_words = []\n",
    "\n",
    "split_sentense = sentense.split(\" \")\n",
    "\n",
    "if (len(split_sentense) - 1) != WINDOW_SIZE * 2:\n",
    "    print(\"ERROR: sentense does not have the correct lenght for testinng\")\n",
    "else:\n",
    "    for w in split_sentense:\n",
    "        context_words.append(w)\n",
    "    del context_words[WINDOW_SIZE]\n",
    "\n",
    "    predicted_word = predict_target(context_words)\n",
    "    print(f\"Predicted word for context {context_words}: {predicted_word}\")"
   ]
  }
 ],
 "metadata": {
  "kernelspec": {
   "display_name": "Python 3 (ipykernel)",
   "language": "python",
   "name": "python3"
  },
  "language_info": {
   "codemirror_mode": {
    "name": "ipython",
    "version": 3
   },
   "file_extension": ".py",
   "mimetype": "text/x-python",
   "name": "python",
   "nbconvert_exporter": "python",
   "pygments_lexer": "ipython3",
   "version": "3.10.9"
  }
 },
 "nbformat": 4,
 "nbformat_minor": 5
}
